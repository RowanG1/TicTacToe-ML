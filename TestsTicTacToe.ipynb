{
 "cells": [
  {
   "cell_type": "code",
   "execution_count": 1,
   "metadata": {},
   "outputs": [
    {
     "name": "stdout",
     "output_type": "stream",
     "text": [
      "importing Jupyter notebook from QLearnTicTacToe.ipynb\n",
      "False\n"
     ]
    },
    {
     "ename": "NameError",
     "evalue": "name 'initBoard' is not defined",
     "output_type": "error",
     "traceback": [
      "\u001b[1;31m---------------------------------------------------------------------------\u001b[0m",
      "\u001b[1;31mNameError\u001b[0m                                 Traceback (most recent call last)",
      "\u001b[1;32m<ipython-input-1-6ec2f7fbc0eb>\u001b[0m in \u001b[0;36m<module>\u001b[1;34m\u001b[0m\n\u001b[0;32m      1\u001b[0m \u001b[1;32mimport\u001b[0m \u001b[0mimport_ipynb\u001b[0m\u001b[1;33m\u001b[0m\u001b[1;33m\u001b[0m\u001b[0m\n\u001b[1;32m----> 2\u001b[1;33m \u001b[1;32mimport\u001b[0m \u001b[0mQLearnTicTacToe\u001b[0m\u001b[1;33m\u001b[0m\u001b[1;33m\u001b[0m\u001b[0m\n\u001b[0m\u001b[0;32m      3\u001b[0m \u001b[1;32mfrom\u001b[0m \u001b[0mQLearnTicTacToe\u001b[0m \u001b[1;32mimport\u001b[0m \u001b[0mGame\u001b[0m\u001b[1;33m\u001b[0m\u001b[1;33m\u001b[0m\u001b[0m\n",
      "\u001b[1;32m~\\anaconda3\\envs\\env_pytorch\\lib\\importlib\\_bootstrap.py\u001b[0m in \u001b[0;36m_find_and_load\u001b[1;34m(name, import_)\u001b[0m\n",
      "\u001b[1;32m~\\anaconda3\\envs\\env_pytorch\\lib\\importlib\\_bootstrap.py\u001b[0m in \u001b[0;36m_find_and_load_unlocked\u001b[1;34m(name, import_)\u001b[0m\n",
      "\u001b[1;32m~\\anaconda3\\envs\\env_pytorch\\lib\\importlib\\_bootstrap.py\u001b[0m in \u001b[0;36m_load_unlocked\u001b[1;34m(spec)\u001b[0m\n",
      "\u001b[1;32m~\\anaconda3\\envs\\env_pytorch\\lib\\importlib\\_bootstrap.py\u001b[0m in \u001b[0;36m_load_backward_compatible\u001b[1;34m(spec)\u001b[0m\n",
      "\u001b[1;32m~\\anaconda3\\envs\\env_pytorch\\lib\\site-packages\\import_ipynb.py\u001b[0m in \u001b[0;36mload_module\u001b[1;34m(self, fullname)\u001b[0m\n\u001b[0;32m     59\u001b[0m                 \u001b[0mcode\u001b[0m \u001b[1;33m=\u001b[0m \u001b[0mself\u001b[0m\u001b[1;33m.\u001b[0m\u001b[0mshell\u001b[0m\u001b[1;33m.\u001b[0m\u001b[0minput_transformer_manager\u001b[0m\u001b[1;33m.\u001b[0m\u001b[0mtransform_cell\u001b[0m\u001b[1;33m(\u001b[0m\u001b[0mcell\u001b[0m\u001b[1;33m.\u001b[0m\u001b[0msource\u001b[0m\u001b[1;33m)\u001b[0m\u001b[1;33m\u001b[0m\u001b[1;33m\u001b[0m\u001b[0m\n\u001b[0;32m     60\u001b[0m                 \u001b[1;31m# run the code in themodule\u001b[0m\u001b[1;33m\u001b[0m\u001b[1;33m\u001b[0m\u001b[1;33m\u001b[0m\u001b[0m\n\u001b[1;32m---> 61\u001b[1;33m                 \u001b[0mexec\u001b[0m\u001b[1;33m(\u001b[0m\u001b[0mcode\u001b[0m\u001b[1;33m,\u001b[0m \u001b[0mmod\u001b[0m\u001b[1;33m.\u001b[0m\u001b[0m__dict__\u001b[0m\u001b[1;33m)\u001b[0m\u001b[1;33m\u001b[0m\u001b[1;33m\u001b[0m\u001b[0m\n\u001b[0m\u001b[0;32m     62\u001b[0m         \u001b[1;32mfinally\u001b[0m\u001b[1;33m:\u001b[0m\u001b[1;33m\u001b[0m\u001b[1;33m\u001b[0m\u001b[0m\n\u001b[0;32m     63\u001b[0m             \u001b[0mself\u001b[0m\u001b[1;33m.\u001b[0m\u001b[0mshell\u001b[0m\u001b[1;33m.\u001b[0m\u001b[0muser_ns\u001b[0m \u001b[1;33m=\u001b[0m \u001b[0msave_user_ns\u001b[0m\u001b[1;33m\u001b[0m\u001b[1;33m\u001b[0m\u001b[0m\n",
      "\u001b[1;32mc:\\Users\\rgont\\Documents\\GitHub\\ML-General\\RL-General\\QLearnTicTacToe.ipynb\u001b[0m in \u001b[0;36m<module>\u001b[1;34m\u001b[0m\n",
      "\u001b[1;31mNameError\u001b[0m: name 'initBoard' is not defined"
     ]
    }
   ],
   "source": [
    "import import_ipynb\n",
    "import QLearnTicTacToe\n",
    "from QLearnTicTacToe import Game\n"
   ]
  },
  {
   "cell_type": "code",
   "execution_count": null,
   "metadata": {},
   "outputs": [
    {
     "ename": "AttributeError",
     "evalue": "'Game' object has no attribute 'isDone'",
     "output_type": "error",
     "traceback": [
      "\u001b[1;31m---------------------------------------------------------------------------\u001b[0m",
      "\u001b[1;31mAttributeError\u001b[0m                            Traceback (most recent call last)",
      "\u001b[1;32m<ipython-input-54-5347dec0a69b>\u001b[0m in \u001b[0;36m<module>\u001b[1;34m\u001b[0m\n\u001b[0;32m     14\u001b[0m \u001b[1;33m\u001b[0m\u001b[0m\n\u001b[0;32m     15\u001b[0m \u001b[0mwinner\u001b[0m \u001b[1;33m=\u001b[0m \u001b[0mgame\u001b[0m\u001b[1;33m.\u001b[0m\u001b[0mgetWinner\u001b[0m\u001b[1;33m(\u001b[0m\u001b[1;33m)\u001b[0m\u001b[1;33m\u001b[0m\u001b[1;33m\u001b[0m\u001b[0m\n\u001b[1;32m---> 16\u001b[1;33m \u001b[0mdone\u001b[0m \u001b[1;33m=\u001b[0m \u001b[0mgame\u001b[0m\u001b[1;33m.\u001b[0m\u001b[0misDone\u001b[0m\u001b[1;33m(\u001b[0m\u001b[1;33m)\u001b[0m\u001b[1;33m\u001b[0m\u001b[1;33m\u001b[0m\u001b[0m\n\u001b[0m\u001b[0;32m     17\u001b[0m \u001b[1;32massert\u001b[0m \u001b[0mwinner\u001b[0m \u001b[1;33m==\u001b[0m \u001b[1;36m2\u001b[0m\u001b[1;33m\u001b[0m\u001b[1;33m\u001b[0m\u001b[0m\n\u001b[0;32m     18\u001b[0m \u001b[1;32massert\u001b[0m \u001b[0mdone\u001b[0m\u001b[1;33m\u001b[0m\u001b[1;33m\u001b[0m\u001b[0m\n",
      "\u001b[1;31mAttributeError\u001b[0m: 'Game' object has no attribute 'isDone'"
     ]
    }
   ],
   "source": [
    "# Test getWinner\n",
    "game = Game()\n",
    "board = game.board\n",
    "board[0][0] = 2\n",
    "board[0][1] = 2\n",
    "board[0][2] = 2\n",
    "\n",
    "board[1][1] = 1\n",
    "board[1][2] = 1\n",
    "\n",
    "board[2][0] = 1\n",
    "board[2][1] = 2\n",
    "board[2][2] = 1\n",
    "\n",
    "winner = game.getWinner()\n",
    "done = game.isDone()\n",
    "assert winner == 2\n",
    "assert done"
   ]
  },
  {
   "cell_type": "code",
   "execution_count": null,
   "metadata": {},
   "outputs": [
    {
     "name": "stdout",
     "output_type": "stream",
     "text": [
      "Hello\n"
     ]
    }
   ],
   "source": [
    "# Test helper methods\n",
    "game = Game()\n",
    "b = game.board\n",
    "game.printBoard()\n",
    "print(game.getWinner())\n",
    "print(game.getMoves())\n",
    "\n",
    "b[0][0] = 1\n",
    "b[1][1] = 1\n",
    "b[2][2] = 1\n",
    "game.printBoard()\n",
    "print(game.getWinner())\n",
    "print(game.getMoves())\n",
    "\n",
    "b[0][2] = 2\n",
    "b[1][2] = 2\n",
    "b[2][2] = 2\n",
    "game.printBoard()\n",
    "print(game.getWinner())\n",
    "print(game.getMoves())\n",
    "\n",
    "b[0][1] = 1\n",
    "b[1][0] = 2\n",
    "b[2][0] = 1\n",
    "b[2][1] = 2\n",
    "b[2][2] = 1\n",
    "b[0][0] = 2\n",
    "game.printBoard()\n",
    "print(game.getWinner())\n",
    "print(game.getMoves())"
   ]
  },
  {
   "cell_type": "code",
   "execution_count": null,
   "metadata": {},
   "outputs": [],
   "source": [
    "# Unit test of validateMove\n",
    "checkBoard = initBoard()\n",
    "assert validateMove(checkBoard, (0, 0))\n",
    "checkBoard[0][0] = 1\n",
    "assert not validateMove(checkBoard, (0, 0))\n",
    "checkBoard[0][0] = 2\n",
    "assert not validateMove(checkBoard, (0, 0))\n",
    "assert not validateMove(checkBoard, (-1, 0))\n",
    "assert not validateMove(checkBoard, (0, -1))\n",
    "assert not validateMove(checkBoard, (3, 0))\n",
    "assert not validateMove(checkBoard, (0, 3))\n",
    "assert validateMove(checkBoard, (2, 0))\n",
    "assert validateMove(checkBoard, (0, 2))"
   ]
  },
  {
   "cell_type": "code",
   "execution_count": null,
   "metadata": {},
   "outputs": [],
   "source": [
    "checkBoard = initBoard()\n",
    "makeMove(checkBoard, (0, 0), 1)\n",
    "assert checkBoard[0][0] == 1"
   ]
  },
  {
   "cell_type": "code",
   "execution_count": null,
   "metadata": {},
   "outputs": [],
   "source": [
    "# Unit test of convertActionIndexToTuple\n",
    "assert convertActionIndexToTuple(0) == (0, 0)\n",
    "assert convertActionIndexToTuple(8) == (2, 2)"
   ]
  },
  {
   "cell_type": "code",
   "execution_count": null,
   "metadata": {},
   "outputs": [],
   "source": [
    "# Test get reward\n",
    "assert getFinalReward(0, 1) == 5\n",
    "assert getFinalReward(0, 2) == 5\n",
    "assert getFinalReward(1, 1) == 10\n",
    "assert getFinalReward(2, 2) == 10\n",
    "assert getFinalReward(1, 2) == -10\n",
    "assert getFinalReward(2, 1) == -10"
   ]
  }
 ],
 "metadata": {
  "interpreter": {
   "hash": "53e2a1fc5c65ef256a2a3c70e4906a76882c0f167b6600e85bada6649df211e1"
  },
  "kernelspec": {
   "display_name": "Python 3.6.13 ('env_pytorch')",
   "language": "python",
   "name": "python3"
  },
  "language_info": {
   "codemirror_mode": {
    "name": "ipython",
    "version": 3
   },
   "file_extension": ".py",
   "mimetype": "text/x-python",
   "name": "python",
   "nbconvert_exporter": "python",
   "pygments_lexer": "ipython3",
   "version": "3.6.13"
  },
  "orig_nbformat": 4
 },
 "nbformat": 4,
 "nbformat_minor": 2
}
